{
 "cells": [
  {
   "cell_type": "code",
   "execution_count": 1,
   "metadata": {},
   "outputs": [],
   "source": [
    "%load_ext autoreload\n",
    "%autoreload 2"
   ]
  },
  {
   "cell_type": "code",
   "execution_count": 2,
   "metadata": {},
   "outputs": [],
   "source": [
    "from solver import parse_input_and_solve\n",
    "from logger import Logger"
   ]
  },
  {
   "cell_type": "code",
   "execution_count": 3,
   "metadata": {},
   "outputs": [],
   "source": [
    "import multiprocessing as mp\n",
    "import concurrent.futures\n",
    "from itertools import product"
   ]
  },
  {
   "cell_type": "code",
   "execution_count": 4,
   "metadata": {},
   "outputs": [],
   "source": [
    "def run_tests():\n",
    "    test_cases = [\n",
    "        'ks_30_0',\n",
    "        'ks_40_0',\n",
    "        'ks_45_0',\n",
    "        'ks_4_0',\n",
    "        'ks_50_0',\n",
    "        'ks_50_1',\n",
    "        'ks_60_0',\n",
    "#         'ks_82_0',\n",
    "#         'ks_100_0',\n",
    "#         'ks_100_1',\n",
    "#         'ks_100_2',\n",
    "#         'ks_106_0',\n",
    "#         'ks_200_0',\n",
    "#         'ks_200_1',\n",
    "#         'ks_300_0',\n",
    "#         'ks_400_0',\n",
    "#         'ks_500_0',\n",
    "#         'ks_1000_0',\n",
    "#         'ks_10000_0'\n",
    "    ]\n",
    "    search_strategies = [\"best_first_bb\", \"lds_bb\"]\n",
    "    estimation_methods = [\"feasible_greedy_estimate\", \"unconstrained_estimate\"]\n",
    "    orders = [\"descending_value_density\"]\n",
    "    epsilons = [0.01]\n",
    "    main_logger = {}\n",
    "    with concurrent.futures.ProcessPoolExecutor(mp.cpu_count()*2) as executor:\n",
    "        futures = {\n",
    "            executor.submit(\n",
    "                parse_input_and_solve,\n",
    "                file_location=\"/mnt/c/Users/Shreyas/Desktop/Projects/discrete_optimization/knapsack/data/\"+test,\n",
    "                search_strategy=search_strategy,\n",
    "                estimation_method=estimation_method,\n",
    "                order=order,\n",
    "                epsilon=epsilon,\n",
    "                debug=False\n",
    "            ): (test, search_strategy, estimation_method, order, epsilon)\n",
    "            for test, search_strategy, estimation_method, order, epsilon in product(\n",
    "                test_cases, search_strategies, estimation_methods, orders, epsilons\n",
    "            )\n",
    "        }\n",
    "        for future in concurrent.futures.as_completed(futures):\n",
    "            output, logger = future.result()\n",
    "            print(\"Completed \", futures[future])\n",
    "            main_logger.update(logger.log)\n",
    "    Logger.plot_log(main_logger, search_strategies, estimation_methods, log_scale_x_axis=True)\n",
    "    return main_logger"
   ]
  },
  {
   "cell_type": "code",
   "execution_count": null,
   "metadata": {},
   "outputs": [
    {
     "name": "stdout",
     "output_type": "stream",
     "text": [
      "Completed  ('ks_30_0', 'best_first_bb', 'feasible_greedy_estimate', 'descending_value_density', 0.01)\n",
      "Completed  ('ks_45_0', 'best_first_bb', 'feasible_greedy_estimate', 'descending_value_density', 0.01)\n",
      "Completed  ('ks_45_0', 'best_first_bb', 'unconstrained_estimate', 'descending_value_density', 0.01)\n",
      "Completed  ('ks_40_0', 'best_first_bb', 'feasible_greedy_estimate', 'descending_value_density', 0.01)\n",
      "Completed  ('ks_45_0', 'lds_bb', 'unconstrained_estimate', 'descending_value_density', 0.01)\n",
      "Completed  ('ks_4_0', 'best_first_bb', 'feasible_greedy_estimate', 'descending_value_density', 0.01)\n",
      "Completed  ('ks_4_0', 'best_first_bb', 'unconstrained_estimate', 'descending_value_density', 0.01)\n",
      "Completed  ('ks_4_0', 'lds_bb', 'feasible_greedy_estimate', 'descending_value_density', 0.01)\n",
      "Completed  ('ks_4_0', 'lds_bb', 'unconstrained_estimate', 'descending_value_density', 0.01)\n",
      "Completed  ('ks_30_0', 'lds_bb', 'feasible_greedy_estimate', 'descending_value_density', 0.01)\n",
      "Completed  ('ks_50_0', 'best_first_bb', 'unconstrained_estimate', 'descending_value_density', 0.01)\n",
      "Completed  ('ks_30_0', 'best_first_bb', 'unconstrained_estimate', 'descending_value_density', 0.01)\n",
      "Completed  ('ks_45_0', 'lds_bb', 'feasible_greedy_estimate', 'descending_value_density', 0.01)\n",
      "Completed  ('ks_40_0', 'lds_bb', 'feasible_greedy_estimate', 'descending_value_density', 0.01)\n",
      "Completed  ('ks_30_0', 'lds_bb', 'unconstrained_estimate', 'descending_value_density', 0.01)\n",
      "Completed  ('ks_50_0', 'lds_bb', 'unconstrained_estimate', 'descending_value_density', 0.01)\n",
      "Completed  ('ks_50_1', 'best_first_bb', 'unconstrained_estimate', 'descending_value_density', 0.01)\n",
      "Completed  ('ks_60_0', 'best_first_bb', 'feasible_greedy_estimate', 'descending_value_density', 0.01)\n",
      "Completed  ('ks_60_0', 'best_first_bb', 'unconstrained_estimate', 'descending_value_density', 0.01)\n",
      "Completed  ('ks_60_0', 'lds_bb', 'feasible_greedy_estimate', 'descending_value_density', 0.01)\n",
      "Completed  ('ks_60_0', 'lds_bb', 'unconstrained_estimate', 'descending_value_density', 0.01)\n"
     ]
    }
   ],
   "source": [
    "main_logger = run_tests()"
   ]
  },
  {
   "cell_type": "code",
   "execution_count": null,
   "metadata": {},
   "outputs": [],
   "source": []
  }
 ],
 "metadata": {
  "kernelspec": {
   "display_name": "Python 3",
   "language": "python",
   "name": "python3"
  },
  "language_info": {
   "codemirror_mode": {
    "name": "ipython",
    "version": 3
   },
   "file_extension": ".py",
   "mimetype": "text/x-python",
   "name": "python",
   "nbconvert_exporter": "python",
   "pygments_lexer": "ipython3",
   "version": "3.7.3"
  }
 },
 "nbformat": 4,
 "nbformat_minor": 2
}
